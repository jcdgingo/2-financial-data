{
 "cells": [
  {
   "cell_type": "code",
   "execution_count": 3,
   "metadata": {},
   "outputs": [
    {
     "name": "stdout",
     "output_type": "stream",
     "text": [
      "MetaTrader5 package author:  MetaQuotes Ltd.\n",
      "MetaTrader5 package version:  5.0.45\n",
      "\n",
      "Display dataframe with data\n",
      "                      time     open     high      low    close  tick_volume  spread  real_volume\n",
      "0      2021-02-16 23:23:00  1.21072  1.21072  1.21071  1.21071            2       0            0\n",
      "1      2021-02-16 23:24:00  1.21072  1.21072  1.21071  1.21072            5       0            0\n",
      "2      2021-02-16 23:25:00  1.21072  1.21072  1.21071  1.21072            3       0            0\n",
      "3      2021-02-16 23:26:00  1.21072  1.21073  1.21068  1.21073           15       0            0\n",
      "4      2021-02-16 23:27:00  1.21073  1.21077  1.21068  1.21068           15       0            0\n",
      "...                    ...      ...      ...      ...      ...          ...     ...          ...\n",
      "999995 2023-10-23 13:55:00  1.06029  1.06029  1.06003  1.06003           37       0            0\n",
      "999996 2023-10-23 13:56:00  1.06004  1.06025  1.06003  1.06025           24       0            0\n",
      "999997 2023-10-23 13:57:00  1.06025  1.06025  1.06004  1.06022           39       0            0\n",
      "999998 2023-10-23 13:58:00  1.06023  1.06036  1.06018  1.06034           46       0            0\n",
      "999999 2023-10-23 13:59:00  1.06034  1.06044  1.06033  1.06044           27       0            0\n",
      "\n",
      "[1000000 rows x 8 columns]\n"
     ]
    }
   ],
   "source": [
    "from datetime import datetime\n",
    "import MetaTrader5 as mt5\n",
    "# display data on the MetaTrader 5 package\n",
    "print(\"MetaTrader5 package author: \",mt5.__author__)\n",
    "print(\"MetaTrader5 package version: \",mt5.__version__)\n",
    " \n",
    "# import the 'pandas' module for displaying data obtained in the tabular form\n",
    "import pandas as pd\n",
    "pd.set_option('display.max_columns', 500) # number of columns to be displayed\n",
    "pd.set_option('display.width', 1500)      # max table width to display\n",
    "# import pytz module for working with time zone\n",
    "import pytz\n",
    "\n",
    "\n",
    "# establish connection to MetaTrader 5 terminal\n",
    "if not mt5.initialize(login=51439076, server=\"ICMarketsSC-Demo\",password=\"vwYYuaZt\"):\n",
    "    print(\"initialize() failed, e51439076rror code =\",mt5.last_error())\n",
    "    quit()\n",
    " \n",
    "# set time zone to UTC\n",
    "timezone = pytz.timezone(\"Etc/UTC\")\n",
    "# create 'datetime' object in UTC time zone to avoid the implementation of a local time zone offset\n",
    "utc_from = datetime(2023, 10, 23, 13, 59, tzinfo=timezone)\n",
    "# get 10 EURUSD H4 bars starting from 01.10.2020 in UTC time zone\n",
    "rates = mt5.copy_rates_from(\"EURUSD\", mt5.TIMEFRAME_M1, utc_from, 1000000)\n",
    " \n",
    "# shut down connection to the MetaTrader 5 terminal\n",
    "mt5.shutdown()\n",
    "\n",
    " \n",
    "# create DataFrame out of the obtained data\n",
    "rates_frame = pd.DataFrame(rates)\n",
    "# convert time in seconds into the datetime format\n",
    "rates_frame['time']=pd.to_datetime(rates_frame['time'], unit='s')\n",
    "                           \n",
    "# display data\n",
    "print(\"\\nDisplay dataframe with data\")\n",
    "print(rates_frame)  "
   ]
  },
  {
   "cell_type": "code",
   "execution_count": 18,
   "metadata": {},
   "outputs": [
    {
     "name": "stdout",
     "output_type": "stream",
     "text": [
      "<class 'pandas.core.frame.DataFrame'>\n"
     ]
    }
   ],
   "source": []
  },
  {
   "cell_type": "code",
   "execution_count": null,
   "metadata": {},
   "outputs": [],
   "source": []
  }
 ],
 "metadata": {
  "kernelspec": {
   "display_name": "python-venv",
   "language": "python",
   "name": "python3"
  },
  "language_info": {
   "codemirror_mode": {
    "name": "ipython",
    "version": 3
   },
   "file_extension": ".py",
   "mimetype": "text/x-python",
   "name": "python",
   "nbconvert_exporter": "python",
   "pygments_lexer": "ipython3",
   "version": "3.11.6"
  }
 },
 "nbformat": 4,
 "nbformat_minor": 2
}
